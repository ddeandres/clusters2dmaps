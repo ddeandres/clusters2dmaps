{
 "cells": [
  {
   "cell_type": "code",
   "execution_count": null,
   "metadata": {},
   "outputs": [],
   "source": [
    "write_fits_image_totalmass(img_tot,\n",
    "                             outcat + snapname + \"-Mtotal-\" + \"cl-\" + str(hid) + \"-ra-\" + str(ra) +\".fits\",\n",
    "                             overwrite= True, \n",
    "                             comments=(\"Simulation Region: \" + clnum,\n",
    "                                      \"AHF Halo ID: \"+str(hid), \n",
    "                                      \"Simulation redshift: \" + str(head.Redshift)[:6],\n",
    "                                      \"log M_200 = \"+str(np.log10(halo[idg[0],3]))[:6]+\" Msun/h\",\n",
    "                                      \"R_200 = \"+str(rr)[:6]+\" kpc/h\",\n",
    "                                      \"log M_200 cil = \"+str(np.log10(M_profile[-1]))[:6],\n",
    "                                      \"log M_200 3D = \"+str(np.log10(Ms*1e10))[:6]))"
   ]
  }
 ],
 "metadata": {
  "kernelspec": {
   "display_name": "Python 3",
   "language": "python",
   "name": "python3"
  },
  "language_info": {
   "codemirror_mode": {
    "name": "ipython",
    "version": 3
   },
   "file_extension": ".py",
   "mimetype": "text/x-python",
   "name": "python",
   "nbconvert_exporter": "python",
   "pygments_lexer": "ipython3",
   "version": "3.8.5"
  },
  "toc": {
   "base_numbering": 1,
   "nav_menu": {},
   "number_sections": true,
   "sideBar": true,
   "skip_h1_title": false,
   "title_cell": "Table of Contents",
   "title_sidebar": "Contents",
   "toc_cell": false,
   "toc_position": {},
   "toc_section_display": true,
   "toc_window_display": false
  },
  "varInspector": {
   "cols": {
    "lenName": 16,
    "lenType": 16,
    "lenVar": 40
   },
   "kernels_config": {
    "python": {
     "delete_cmd_postfix": "",
     "delete_cmd_prefix": "del ",
     "library": "var_list.py",
     "varRefreshCmd": "print(var_dic_list())"
    },
    "r": {
     "delete_cmd_postfix": ") ",
     "delete_cmd_prefix": "rm(",
     "library": "var_list.r",
     "varRefreshCmd": "cat(var_dic_list()) "
    }
   },
   "types_to_exclude": [
    "module",
    "function",
    "builtin_function_or_method",
    "instance",
    "_Feature"
   ],
   "window_display": false
  }
 },
 "nbformat": 4,
 "nbformat_minor": 4
}
