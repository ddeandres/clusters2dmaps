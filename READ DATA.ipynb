{
 "cells": [
  {
   "cell_type": "code",
   "execution_count": 26,
   "metadata": {},
   "outputs": [],
   "source": [
    "path = \"/data7/users/deandres/newML2/\"\n",
    "\n",
    "RAs = np.arange(0,29)\n",
    "import numpy as np\n",
    "import matplotlib.pyplot as plt\n",
    "from astropy.io import fits\n",
    "from utils import plot_cluster\n",
    "\n",
    "def read_xr(lp,hid,RA):\n",
    "    region = 'X-ray/NewMDCLUSTER_{}/'.format(str(lp).zfill(4))\n",
    "    s = str(hid)[:3]\n",
    "    file = 'snap_{}-Athena-wfi-cl-{}-ra-{}.fits'.format(s,hid,RA)\n",
    "    print(RA)\n",
    "    data = fits.getdata(path+region+file)\n",
    "    return data\n",
    "\n",
    "def read_sz(lp,hid,RA):\n",
    "    region = 'SZ/NewMDCLUSTER_{}/'.format(str(lp).zfill(4))\n",
    "    s = str(hid)[:3]\n",
    "    file = 'snap_{}-TT-cl-{}-ra-{}.fits'.format(s,hid,RA)\n",
    "    print(RA)\n",
    "    data = fits.getdata(path+region+file)\n",
    "    return data\n",
    "\n",
    "def read_dm(lp,hid,RA):\n",
    "    region = 'DM/NewMDCLUSTER_{}/'.format(str(lp).zfill(4))\n",
    "    s = str(hid)[:3]\n",
    "    file = 'snap_{}-DM-cl-{}-ra-{}.fits'.format(s,hid,RA)\n",
    "    print(RA)\n",
    "    data = fits.getdata(path+region+file)\n",
    "    return data\n",
    "def get_M2(lp,hid,RA):\n",
    "    region = 'DM/NewMDCLUSTER_{}/'.format(str(lp).zfill(4))\n",
    "    s = str(hid)[:3]\n",
    "    file = 'snap_{}-DM-cl-{}-ra-{}.fits'.format(s,hid,RA)\n",
    "    #print(RA)\n",
    "    hdul = fits.open(path+region+file)\n",
    "    M = np.float(hdul[0].header[-2][12:18])\n",
    "    return M\n",
    "def get_M5(lp,hid,RA):\n",
    "    region = 'DM/NewMDCLUSTER_{}/'.format(str(lp).zfill(4))\n",
    "    s = str(hid)[:3]\n",
    "    file = 'snap_{}-DM-cl-{}-ra-{}.fits'.format(s,hid,RA)\n",
    "    #print(RA)\n",
    "    hdul = fits.open(path+region+file)\n",
    "    M = np.float(hdul[0].header[-9][12:18])\n",
    "    return M"
   ]
  },
  {
   "cell_type": "code",
   "execution_count": 27,
   "metadata": {},
   "outputs": [],
   "source": [
    "selecth = np.load('/home2/weiguang/Project-300-Clusters/ML/Reselected_all_halos.npy')\n",
    "\n",
    "lp=1\n",
    "idr = np.where(np.int32(selecth[:,2]+0.1)==lp)[0]\n",
    "if len(idr)<1:\n",
    "    raise ValueError('No regions find in selected halo',lp)\n",
    "\n",
    "Hids = np.int64(selecth[idr,0]+0.1)    #AHF halo IDs\n",
    "sn = np.array([np.int32(str(i)[:3]) for i in Hids])\n",
    "idshid = np.argsort(Hids)\n",
    "Hids = Hids[idshid]; sn=sn[idshid]; idr=idr[idshid]\n",
    "st = 0"
   ]
  },
  {
   "cell_type": "code",
   "execution_count": 28,
   "metadata": {},
   "outputs": [
    {
     "ename": "ValueError",
     "evalue": "could not convert string to float: ''",
     "output_type": "error",
     "traceback": [
      "\u001b[0;31m---------------------------------------------------------------------------\u001b[0m",
      "\u001b[0;31mValueError\u001b[0m                                Traceback (most recent call last)",
      "\u001b[0;32m<ipython-input-28-6e79bafba354>\u001b[0m in \u001b[0;36m<module>\u001b[0;34m\u001b[0m\n\u001b[1;32m      2\u001b[0m \u001b[0;32mfor\u001b[0m \u001b[0mhid\u001b[0m \u001b[0;32min\u001b[0m \u001b[0mHids\u001b[0m\u001b[0;34m:\u001b[0m\u001b[0;34m\u001b[0m\u001b[0;34m\u001b[0m\u001b[0m\n\u001b[1;32m      3\u001b[0m     \u001b[0;32mfor\u001b[0m \u001b[0mRA\u001b[0m \u001b[0;32min\u001b[0m \u001b[0;34m[\u001b[0m\u001b[0;36m0\u001b[0m\u001b[0;34m]\u001b[0m\u001b[0;34m:\u001b[0m\u001b[0;34m\u001b[0m\u001b[0;34m\u001b[0m\u001b[0m\n\u001b[0;32m----> 4\u001b[0;31m         \u001b[0mM_200\u001b[0m\u001b[0;34m.\u001b[0m\u001b[0mappend\u001b[0m\u001b[0;34m(\u001b[0m\u001b[0mget_M5\u001b[0m\u001b[0;34m(\u001b[0m\u001b[0mlp\u001b[0m\u001b[0;34m,\u001b[0m\u001b[0mhid\u001b[0m\u001b[0;34m,\u001b[0m\u001b[0mRA\u001b[0m\u001b[0;34m)\u001b[0m\u001b[0;34m)\u001b[0m\u001b[0;34m\u001b[0m\u001b[0;34m\u001b[0m\u001b[0m\n\u001b[0m\u001b[1;32m      5\u001b[0m         \u001b[0mprint\u001b[0m\u001b[0;34m(\u001b[0m\u001b[0mM_200\u001b[0m\u001b[0;34m)\u001b[0m\u001b[0;34m\u001b[0m\u001b[0;34m\u001b[0m\u001b[0m\n",
      "\u001b[0;32m<ipython-input-26-0ceec2579121>\u001b[0m in \u001b[0;36mget_M5\u001b[0;34m(lp, hid, RA)\u001b[0m\n\u001b[1;32m     44\u001b[0m     \u001b[0;31m#print(RA)\u001b[0m\u001b[0;34m\u001b[0m\u001b[0;34m\u001b[0m\u001b[0;34m\u001b[0m\u001b[0m\n\u001b[1;32m     45\u001b[0m     \u001b[0mhdul\u001b[0m \u001b[0;34m=\u001b[0m \u001b[0mfits\u001b[0m\u001b[0;34m.\u001b[0m\u001b[0mopen\u001b[0m\u001b[0;34m(\u001b[0m\u001b[0mpath\u001b[0m\u001b[0;34m+\u001b[0m\u001b[0mregion\u001b[0m\u001b[0;34m+\u001b[0m\u001b[0mfile\u001b[0m\u001b[0;34m)\u001b[0m\u001b[0;34m\u001b[0m\u001b[0;34m\u001b[0m\u001b[0m\n\u001b[0;32m---> 46\u001b[0;31m     \u001b[0mM\u001b[0m \u001b[0;34m=\u001b[0m \u001b[0mnp\u001b[0m\u001b[0;34m.\u001b[0m\u001b[0mfloat\u001b[0m\u001b[0;34m(\u001b[0m\u001b[0mhdul\u001b[0m\u001b[0;34m[\u001b[0m\u001b[0;36m0\u001b[0m\u001b[0;34m]\u001b[0m\u001b[0;34m.\u001b[0m\u001b[0mheader\u001b[0m\u001b[0;34m[\u001b[0m\u001b[0;34m-\u001b[0m\u001b[0;36m9\u001b[0m\u001b[0;34m]\u001b[0m\u001b[0;34m[\u001b[0m\u001b[0;36m12\u001b[0m\u001b[0;34m:\u001b[0m\u001b[0;36m18\u001b[0m\u001b[0;34m]\u001b[0m\u001b[0;34m)\u001b[0m\u001b[0;34m\u001b[0m\u001b[0;34m\u001b[0m\u001b[0m\n\u001b[0m\u001b[1;32m     47\u001b[0m     \u001b[0;32mreturn\u001b[0m \u001b[0mM\u001b[0m\u001b[0;34m\u001b[0m\u001b[0;34m\u001b[0m\u001b[0m\n",
      "\u001b[0;31mValueError\u001b[0m: could not convert string to float: ''"
     ]
    }
   ],
   "source": [
    "M_200 = []\n",
    "for hid in Hids:\n",
    "    for RA in [0]:\n",
    "        M_200.append(get_M5(lp,hid,RA))\n",
    "        print(M_200)"
   ]
  },
  {
   "cell_type": "raw",
   "metadata": {
    "scrolled": true
   },
   "source": [
    "import cv2\n",
    "for hid in Hids:\n",
    "    for RA in RAs:\n",
    "        img = read_sz(lp,hid,RA)\n",
    "        plot_cluster(img)\n",
    "        resized = cv2.resize(img+1e-10,(int(128),int(128)))\n",
    "        plot_cluster(resized)"
   ]
  },
  {
   "cell_type": "code",
   "execution_count": 29,
   "metadata": {},
   "outputs": [],
   "source": [
    "import h5py\n",
    "h5_path = path + \"h5files/\"\n",
    "df = h5py.File(h5_path+'128.h5', 'r')\n"
   ]
  },
  {
   "cell_type": "code",
   "execution_count": 30,
   "metadata": {},
   "outputs": [
    {
     "data": {
      "text/plain": [
       "<KeysViewHDF5 ['DM', 'M_200', 'SZ', 'Xray']>"
      ]
     },
     "execution_count": 30,
     "metadata": {},
     "output_type": "execute_result"
    }
   ],
   "source": [
    "df.keys()"
   ]
  },
  {
   "cell_type": "code",
   "execution_count": 38,
   "metadata": {},
   "outputs": [
    {
     "data": {
      "text/plain": [
       "(2580, 29, 128, 128)"
      ]
     },
     "execution_count": 38,
     "metadata": {},
     "output_type": "execute_result"
    }
   ],
   "source": [
    "df['SZ'].shape"
   ]
  },
  {
   "cell_type": "code",
   "execution_count": 34,
   "metadata": {
    "scrolled": false
   },
   "outputs": [
    {
     "data": {
      "image/png": "[encoded data removed]",
      "text/plain": [
       "<Figure size 720x720 with 2 Axes>"
      ]
     },
     "metadata": {
      "needs_background": "light"
     },
     "output_type": "display_data"
    }
   ],
   "source": [
    "plot_cluster(df['Xray'][2579,0,:,:])"
   ]
  },
  {
   "cell_type": "code",
   "execution_count": null,
   "metadata": {},
   "outputs": [],
   "source": []
  }
 ],
 "metadata": {
  "kernelspec": {
   "display_name": "Python 3",
   "language": "python",
   "name": "python3"
  },
  "language_info": {
   "codemirror_mode": {
    "name": "ipython",
    "version": 3
   },
   "file_extension": ".py",
   "mimetype": "text/x-python",
   "name": "python",
   "nbconvert_exporter": "python",
   "pygments_lexer": "ipython3",
   "version": "3.8.5"
  },
  "toc": {
   "base_numbering": 1,
   "nav_menu": {},
   "number_sections": true,
   "sideBar": true,
   "skip_h1_title": false,
   "title_cell": "Table of Contents",
   "title_sidebar": "Contents",
   "toc_cell": false,
   "toc_position": {},
   "toc_section_display": true,
   "toc_window_display": true
  },
  "varInspector": {
   "cols": {
    "lenName": 16,
    "lenType": 16,
    "lenVar": 40
   },
   "kernels_config": {
    "python": {
     "delete_cmd_postfix": "",
     "delete_cmd_prefix": "del ",
     "library": "var_list.py",
     "varRefreshCmd": "print(var_dic_list())"
    },
    "r": {
     "delete_cmd_postfix": ") ",
     "delete_cmd_prefix": "rm(",
     "library": "var_list.r",
     "varRefreshCmd": "cat(var_dic_list()) "
    }
   },
   "types_to_exclude": [
    "module",
    "function",
    "builtin_function_or_method",
    "instance",
    "_Feature"
   ],
   "window_display": false
  }
 },
 "nbformat": 4,
 "nbformat_minor": 4
}
